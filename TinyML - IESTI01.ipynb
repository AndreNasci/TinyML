{
  "nbformat": 4,
  "nbformat_minor": 0,
  "metadata": {
    "colab": {
      "provenance": [],
      "authorship_tag": "ABX9TyOOYXertVYX0BETR8mztIet",
      "include_colab_link": true
    },
    "kernelspec": {
      "name": "python3",
      "display_name": "Python 3"
    },
    "language_info": {
      "name": "python"
    }
  },
  "cells": [
    {
      "cell_type": "markdown",
      "metadata": {
        "id": "view-in-github",
        "colab_type": "text"
      },
      "source": [
        "<a href=\"https://colab.research.google.com/github/AndreNasci/TinyML/blob/main/TinyML%20-%20IESTI01.ipynb\" target=\"_parent\"><img src=\"https://colab.research.google.com/assets/colab-badge.svg\" alt=\"Open In Colab\"/></a>"
      ]
    },
    {
      "cell_type": "markdown",
      "source": [
        "# Hello World!\n",
        "\n",
        "Esse é um notebook de boas-vindas para o repositório do github de TinyML."
      ],
      "metadata": {
        "id": "hhAdIyz43EA-"
      }
    },
    {
      "cell_type": "code",
      "execution_count": null,
      "metadata": {
        "id": "sXZ0SU8G29CJ",
        "colab": {
          "base_uri": "https://localhost:8080/"
        },
        "outputId": "b4685f4a-f737-46da-88ff-309ff1b7e454"
      },
      "outputs": [
        {
          "output_type": "stream",
          "name": "stdout",
          "text": [
            "Hello World!\n",
            "Esse é um notebook de boas-vindas para o respositório do Github de TinyML!\n"
          ]
        }
      ],
      "source": [
        "print(\"Hello World!\\nEsse é um notebook de boas-vindas para o respositório do Github de TinyML!\")"
      ]
    },
    {
      "cell_type": "markdown",
      "source": [
        "Essa é uma pequena alteração. Apenas para teste! ⭐"
      ],
      "metadata": {
        "id": "jOa8iwOH5Oo8"
      }
    },
    {
      "cell_type": "code",
      "source": [
        "import numpy as np\n",
        "import pandas as pd\n",
        "\n",
        "print(\"You plobably saw this already, right?\")"
      ],
      "metadata": {
        "id": "RWBdsJaE5ZEE",
        "outputId": "c6745dd9-73b4-4a01-e673-51cf8578949b",
        "colab": {
          "base_uri": "https://localhost:8080/"
        }
      },
      "execution_count": 1,
      "outputs": [
        {
          "output_type": "stream",
          "name": "stdout",
          "text": [
            "You plobably saw this already, right?\n"
          ]
        }
      ]
    }
  ]
}